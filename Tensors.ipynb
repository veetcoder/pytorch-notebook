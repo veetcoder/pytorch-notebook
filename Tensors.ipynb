{
  "nbformat": 4,
  "nbformat_minor": 0,
  "metadata": {
    "colab": {
      "provenance": [],
      "authorship_tag": "ABX9TyOv8borvl0AyUskbRFfUS8C",
      "include_colab_link": true
    },
    "kernelspec": {
      "name": "python3",
      "display_name": "Python 3"
    },
    "language_info": {
      "name": "python"
    }
  },
  "cells": [
    {
      "cell_type": "markdown",
      "metadata": {
        "id": "view-in-github",
        "colab_type": "text"
      },
      "source": [
        "<a href=\"https://colab.research.google.com/github/veetcoder/pytorch-notebook/blob/main/Tensors.ipynb\" target=\"_parent\"><img src=\"https://colab.research.google.com/assets/colab-badge.svg\" alt=\"Open In Colab\"/></a>"
      ]
    },
    {
      "cell_type": "code",
      "execution_count": 3,
      "metadata": {
        "id": "aDsTD0HWicbb"
      },
      "outputs": [],
      "source": [
        "import torch\n",
        "import numpy as np"
      ]
    },
    {
      "cell_type": "code",
      "source": [
        "# Python lists\n",
        "my_list = [[1, 2, 3, 4], [5, 6, 7, 8]]\n",
        "my_list"
      ],
      "metadata": {
        "colab": {
          "base_uri": "https://localhost:8080/"
        },
        "id": "2r-tivbPihJh",
        "outputId": "2a8b2a8d-c74c-40cc-ae1a-c10a914de6e7"
      },
      "execution_count": 4,
      "outputs": [
        {
          "output_type": "execute_result",
          "data": {
            "text/plain": [
              "[[1, 2, 3, 4], [5, 6, 7, 8]]"
            ]
          },
          "metadata": {},
          "execution_count": 4
        }
      ]
    },
    {
      "cell_type": "code",
      "source": [
        "# Numpy arrays\n",
        "np1 = np.random.rand(3, 4)\n",
        "np1"
      ],
      "metadata": {
        "colab": {
          "base_uri": "https://localhost:8080/"
        },
        "id": "OEa2xbS8iuG9",
        "outputId": "4e7972ee-0c87-4bae-e7bd-cdf156b15745"
      },
      "execution_count": 5,
      "outputs": [
        {
          "output_type": "execute_result",
          "data": {
            "text/plain": [
              "array([[0.72021881, 0.21008668, 0.89219104, 0.50182947],\n",
              "       [0.81609697, 0.76672018, 0.63870555, 0.43166048],\n",
              "       [0.11093178, 0.15021708, 0.0588742 , 0.04802094]])"
            ]
          },
          "metadata": {},
          "execution_count": 5
        }
      ]
    },
    {
      "cell_type": "code",
      "source": [
        "np1.dtype"
      ],
      "metadata": {
        "colab": {
          "base_uri": "https://localhost:8080/"
        },
        "id": "Hsd7nBNpi-Z4",
        "outputId": "ecd60d05-883b-449c-dc2e-6fb9e3da9472"
      },
      "execution_count": 6,
      "outputs": [
        {
          "output_type": "execute_result",
          "data": {
            "text/plain": [
              "dtype('float64')"
            ]
          },
          "metadata": {},
          "execution_count": 6
        }
      ]
    },
    {
      "cell_type": "code",
      "source": [
        "# Tensors\n",
        "tensor_2d = torch.randn(3, 4)\n",
        "tensor_2d"
      ],
      "metadata": {
        "colab": {
          "base_uri": "https://localhost:8080/"
        },
        "id": "mECqMZZHjCpz",
        "outputId": "89afa706-8b38-47a8-c034-85382c6960de"
      },
      "execution_count": 7,
      "outputs": [
        {
          "output_type": "execute_result",
          "data": {
            "text/plain": [
              "tensor([[ 0.4997,  0.3509,  1.7446, -0.6547],\n",
              "        [-0.3459,  1.5365, -0.0137,  0.2500],\n",
              "        [-1.9461, -1.6841,  0.0991,  0.1577]])"
            ]
          },
          "metadata": {},
          "execution_count": 7
        }
      ]
    },
    {
      "cell_type": "code",
      "source": [
        "tensor_3d = torch.randn(2, 3, 4)\n",
        "tensor_3d"
      ],
      "metadata": {
        "colab": {
          "base_uri": "https://localhost:8080/"
        },
        "id": "BVR_CbrXjSN7",
        "outputId": "7bb8ea20-eeeb-4a0d-8e44-a623409e89eb"
      },
      "execution_count": 8,
      "outputs": [
        {
          "output_type": "execute_result",
          "data": {
            "text/plain": [
              "tensor([[[ 1.5594,  0.4254, -0.4117,  0.8374],\n",
              "         [-0.9491,  0.8902,  1.3768,  2.1552],\n",
              "         [-0.6012, -0.7347,  0.6308, -1.4898]],\n",
              "\n",
              "        [[ 0.5359, -0.2231,  0.5384, -0.0437],\n",
              "         [-0.6340,  0.9846, -0.9013, -1.6488],\n",
              "         [ 0.4092,  0.8837, -1.8937, -1.5982]]])"
            ]
          },
          "metadata": {},
          "execution_count": 8
        }
      ]
    },
    {
      "cell_type": "code",
      "source": [
        "tensor_3d_zeroes = torch.zeros(2, 3, 4)\n",
        "tensor_3d_zeroes"
      ],
      "metadata": {
        "colab": {
          "base_uri": "https://localhost:8080/"
        },
        "id": "iNG5XSH6jYMg",
        "outputId": "277fcde7-8158-4b01-d08f-c27c8f6c1b2d"
      },
      "execution_count": 10,
      "outputs": [
        {
          "output_type": "execute_result",
          "data": {
            "text/plain": [
              "tensor([[[0., 0., 0., 0.],\n",
              "         [0., 0., 0., 0.],\n",
              "         [0., 0., 0., 0.]],\n",
              "\n",
              "        [[0., 0., 0., 0.],\n",
              "         [0., 0., 0., 0.],\n",
              "         [0., 0., 0., 0.]]])"
            ]
          },
          "metadata": {},
          "execution_count": 10
        }
      ]
    },
    {
      "cell_type": "code",
      "source": [
        "tensor_from_np = torch.tensor(np1)\n",
        "tensor_from_np"
      ],
      "metadata": {
        "colab": {
          "base_uri": "https://localhost:8080/"
        },
        "id": "5uOatarxjfus",
        "outputId": "d798cb07-6930-483b-b306-b7c6f645e38f"
      },
      "execution_count": 11,
      "outputs": [
        {
          "output_type": "execute_result",
          "data": {
            "text/plain": [
              "tensor([[0.7202, 0.2101, 0.8922, 0.5018],\n",
              "        [0.8161, 0.7667, 0.6387, 0.4317],\n",
              "        [0.1109, 0.1502, 0.0589, 0.0480]], dtype=torch.float64)"
            ]
          },
          "metadata": {},
          "execution_count": 11
        }
      ]
    }
  ]
}